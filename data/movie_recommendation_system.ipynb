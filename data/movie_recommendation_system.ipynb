{
 "cells": [
  {
   "cell_type": "code",
   "execution_count": null,
   "id": "f34c963f",
   "metadata": {},
   "outputs": [],
   "source": [
    "# Import necessary libraries and modules\n",
    "\n",
    "# pandas for data manipulation and analysis\n",
    "import pandas as pd\n",
    "\n",
    "# Surprise for building recommendation systems\n",
    "from surprise import Dataset, Reader, SVD\n",
    "from surprise.model_selection import train_test_split\n",
    "from surprise import accuracy"
   ]
  },
  {
   "cell_type": "code",
   "execution_count": null,
   "id": "73af9a03",
   "metadata": {},
   "outputs": [],
   "source": [
    "import pandas as pd\n",
    "\n",
    "movies = pd.read_csv('movies.csv')\n",
    "ratings = pd.read_csv('ratings.csv')\n",
    "tags = pd.read_csv('tags.csv')\n",
    "links = pd.read_csv('links.csv')"
   ]
  },
  {
   "cell_type": "code",
   "execution_count": null,
   "id": "6dfe4393",
   "metadata": {},
   "outputs": [],
   "source": [
    "# Example exploration of the 'movies' dataframe\n",
    "print(movies.head())\n",
    "print(movies.info())"
   ]
  },
  {
   "cell_type": "code",
   "execution_count": null,
   "id": "e4041c5f",
   "metadata": {},
   "outputs": [],
   "source": [
    "# Example exploration of the 'ratings' dataframe\n",
    "print(ratings.head())\n",
    "print(ratings.info())\n"
   ]
  },
  {
   "cell_type": "code",
   "execution_count": null,
   "id": "6786274a",
   "metadata": {},
   "outputs": [],
   "source": [
    "# Example exploration of the 'tags' dataframe\n",
    "print(tags.head())\n",
    "print(tags.info())\n"
   ]
  },
  {
   "cell_type": "code",
   "execution_count": null,
   "id": "8e4c1b3f",
   "metadata": {},
   "outputs": [],
   "source": [
    "# Example exploration of the 'links' dataframe\n",
    "print(links.head())\n",
    "print(links.info())\n"
   ]
  },
  {
   "cell_type": "code",
   "execution_count": null,
   "id": "6004c5b7",
   "metadata": {},
   "outputs": [],
   "source": [
    "# Example: Datapreprocessing check for missing values in the 'movies' dataframe\n",
    "print(movies.isnull().sum())"
   ]
  },
  {
   "cell_type": "code",
   "execution_count": null,
   "id": "7117058a",
   "metadata": {},
   "outputs": [],
   "source": [
    "print(ratings.isnull().sum())"
   ]
  },
  {
   "cell_type": "code",
   "execution_count": null,
   "id": "c90f80ea",
   "metadata": {},
   "outputs": [],
   "source": [
    "print(tags.isnull().sum())"
   ]
  },
  {
   "cell_type": "code",
   "execution_count": null,
   "id": "9f046f72",
   "metadata": {},
   "outputs": [],
   "source": [
    "print(links.isnull().sum())"
   ]
  },
  {
   "cell_type": "code",
   "execution_count": null,
   "id": "1d1ff8e9",
   "metadata": {},
   "outputs": [],
   "source": [
    "# Merge 'ratings' and 'movies' dataframes on the 'movieId' column\n",
    "movie_ratings = pd.merge(ratings, movies, on='movieId')"
   ]
  },
  {
   "cell_type": "code",
   "execution_count": null,
   "id": "e85b9daf",
   "metadata": {},
   "outputs": [],
   "source": [
    "# Inspect the Merged Dataframe\n",
    "print(movie_ratings.head())  # Display the first few rows of the merged dataframe\n",
    "print(movie_ratings.info())  # Provide information about columns and data types"
   ]
  },
  {
   "cell_type": "code",
   "execution_count": null,
   "id": "632ef0dc",
   "metadata": {},
   "outputs": [],
   "source": [
    "# Handling Missing Values\n",
    "print(movie_ratings.isnull().sum())  # Check for missing values in the dataframe"
   ]
  },
  {
   "cell_type": "code",
   "execution_count": null,
   "id": "11bf2b94",
   "metadata": {},
   "outputs": [],
   "source": [
    "# User-Item Rating Matrix\n",
    "user_item_matrix = movie_ratings.pivot_table(index='userId', columns='title', values='rating')\n",
    "# Rows represent users, columns represent movies, and values are user ratings"
   ]
  },
  {
   "cell_type": "code",
   "execution_count": null,
   "id": "460478e1",
   "metadata": {},
   "outputs": [],
   "source": [
    "# Handling Missing Ratings (Optional)\n",
    "user_item_matrix = user_item_matrix.fillna(0)  # Fill missing ratings with zeros\n"
   ]
  },
  {
   "cell_type": "code",
   "execution_count": null,
   "id": "f376210c",
   "metadata": {},
   "outputs": [],
   "source": [
    "# Converting to Surprise Dataset (Optional)\n",
    "from surprise import Dataset, Reader"
   ]
  },
  {
   "cell_type": "code",
   "execution_count": null,
   "id": "370dc22e",
   "metadata": {},
   "outputs": [],
   "source": [
    "reader = Reader(rating_scale=(0.5, 5.0))\n",
    "data = Dataset.load_from_df(movie_ratings[['userId', 'movieId', 'rating']], reader)\n"
   ]
  },
  {
   "cell_type": "code",
   "execution_count": null,
   "id": "bd9c9d53",
   "metadata": {},
   "outputs": [],
   "source": [
    "# Data Splitting (Optional)\n",
    "from surprise.model_selection import train_test_split"
   ]
  },
  {
   "cell_type": "code",
   "execution_count": null,
   "id": "4c486a1c",
   "metadata": {},
   "outputs": [],
   "source": [
    "trainset, testset = train_test_split(data, test_size=0.2, random_state=42)\n",
    "# Split the data for model training and evaluation"
   ]
  },
  {
   "cell_type": "code",
   "execution_count": null,
   "id": "2f276668",
   "metadata": {},
   "outputs": [],
   "source": [
    "# Import the SVD algorithm\n",
    "from surprise import SVD\n",
    "\n",
    "# Initialize the SVD algorithm\n",
    "model = SVD()\n",
    "\n",
    "# Train the model on the training dataset\n",
    "model.fit(trainset)\n"
   ]
  },
  {
   "cell_type": "code",
   "execution_count": null,
   "id": "80e874fc",
   "metadata": {},
   "outputs": [],
   "source": [
    "# Specify the User ID for which you want to make recommendations\n",
    "user_id = 1  # Replace with the desired User ID\n",
    "\n",
    "# Get a list of movie IDs that the user has not rated\n",
    "user_movies = movie_ratings[movie_ratings['userId'] == user_id]['movieId']\n",
    "movies_not_rated = movies[~movies['movieId'].isin(user_movies)]['movieId']\n",
    "\n",
    "# Create a list of (movieId, predicted_rating) tuples for unrated movies\n",
    "predicted_ratings = []\n",
    "for movie_id in movies_not_rated:\n",
    "    predicted_rating = model.predict(user_id, movie_id).est\n",
    "    predicted_ratings.append((movie_id, predicted_rating))\n",
    "\n",
    "# Sort the predicted ratings in descending order to recommend top-rated movies\n",
    "recommended_movies = sorted(predicted_ratings, key=lambda x: x[1], reverse=True)\n",
    "\n",
    "# Print the top N recommended movies (change N as needed)\n",
    "N = 10  # Number of recommendations to display\n",
    "top_N_recommendations = recommended_movies[:N]\n",
    "\n",
    "# Print the top N recommended movie titles\n",
    "recommended_movie_titles = [movies[movies['movieId'] == movie_id]['title'].values[0] for movie_id, _ in top_N_recommendations]\n",
    "for i, title in enumerate(recommended_movie_titles):\n",
    "    print(f\"Recommendation {i + 1}: {title}\")\n"
   ]
  },
  {
   "cell_type": "code",
   "execution_count": null,
   "id": "752d721c",
   "metadata": {},
   "outputs": [],
   "source": [
    "!pip install tabulate"
   ]
  },
  {
   "cell_type": "code",
   "execution_count": 1,
   "id": "e9307609",
   "metadata": {},
   "outputs": [
    {
     "name": "stdout",
     "output_type": "stream",
     "text": [
      "+------+------------------------------+\n",
      "| Rank |            Movie             |\n",
      "+------+------------------------------+\n",
      "|  1   | Shawshank Redemption (1994)  |\n",
      "|  2   |  Ghost in the Shell (1995)   |\n",
      "|  3   |      Rear Window (1954)      |\n",
      "|  4   |   To Catch a Thief (1955)    |\n",
      "|  5   |    Cinema Paradiso (1989)    |\n",
      "|  6   |  Lawrence of Arabia (1962)   |\n",
      "|  7   | To Kill a Mockingbird (1962) |\n",
      "|  8   |      Raging Bull (1980)      |\n",
      "|  9   |       Chinatown (1974)       |\n",
      "|  10  |      Unforgiven (1992)       |\n",
      "+------+------------------------------+\n"
     ]
    }
   ],
   "source": [
    "# Import necessary libraries\n",
    "from tabulate import tabulate\n",
    "\n",
    "# Create a list of movie recommendations\n",
    "recommendations = [\n",
    "    \"Shawshank Redemption (1994)\",\n",
    "    \"Ghost in the Shell (1995)\",\n",
    "    \"Rear Window (1954)\",\n",
    "    \"To Catch a Thief (1955)\",\n",
    "    \"Cinema Paradiso (1989)\",\n",
    "    \"Lawrence of Arabia (1962)\",\n",
    "    \"To Kill a Mockingbird (1962)\",\n",
    "    \"Raging Bull (1980)\",\n",
    "    \"Chinatown (1974)\",\n",
    "    \"Unforgiven (1992)\"\n",
    "]\n",
    "\n",
    "# Display recommendations in a nicely formatted table\n",
    "print(tabulate(enumerate(recommendations, start=1), headers=[\"Rank\", \"Movie\"], tablefmt=\"pretty\"))\n"
   ]
  },
  {
   "cell_type": "code",
   "execution_count": 15,
   "id": "01bf386e",
   "metadata": {},
   "outputs": [
    {
     "data": {
      "text/html": [
       "<img src=\"https://m.media-amazon.com/images/S/pv-target-images/c5eea2f44626ddcbe2e5a4e3f37a36e05d7ca2ceb1690d795ca9ac38a8f5d365.jpg\" width=\"200\" height=\"300\"/>"
      ],
      "text/plain": [
       "<IPython.core.display.Image object>"
      ]
     },
     "metadata": {},
     "output_type": "display_data"
    },
    {
     "data": {
      "text/html": [
       "Recommendation 1"
      ],
      "text/plain": [
       "<IPython.core.display.HTML object>"
      ]
     },
     "metadata": {},
     "output_type": "display_data"
    },
    {
     "data": {
      "text/html": [
       "<img src=\"https://i.ytimg.com/vi/wSU2JH1_jWs/hq720.jpg?sqp=-oaymwEhCK4FEIIDSFryq4qpAxMIARUAAAAAGAElAADIQj0AgKJD&rs=AOn4CLBxtdA6QCQTsoT2OaLnTMOkFRMoQA\" width=\"200\" height=\"300\"/>"
      ],
      "text/plain": [
       "<IPython.core.display.Image object>"
      ]
     },
     "metadata": {},
     "output_type": "display_data"
    },
    {
     "data": {
      "text/html": [
       "Recommendation 2"
      ],
      "text/plain": [
       "<IPython.core.display.HTML object>"
      ]
     },
     "metadata": {},
     "output_type": "display_data"
    },
    {
     "data": {
      "text/html": [
       "<img src=\"https://m.media-amazon.com/images/M/MV5BNGUxYWM3M2MtMGM3Mi00ZmRiLWE0NGQtZjE5ODI2OTJhNTU0XkEyXkFqcGdeQXVyMTQxNzMzNDI@._V1_.jpg\" width=\"200\" height=\"300\"/>"
      ],
      "text/plain": [
       "<IPython.core.display.Image object>"
      ]
     },
     "metadata": {},
     "output_type": "display_data"
    },
    {
     "data": {
      "text/html": [
       "Recommendation 3"
      ],
      "text/plain": [
       "<IPython.core.display.HTML object>"
      ]
     },
     "metadata": {},
     "output_type": "display_data"
    },
    {
     "data": {
      "text/html": [
       "<img src=\"https://flxt.tmsimg.com/assets/p539_p_v8_aa.jpg\" width=\"200\" height=\"300\"/>"
      ],
      "text/plain": [
       "<IPython.core.display.Image object>"
      ]
     },
     "metadata": {},
     "output_type": "display_data"
    },
    {
     "data": {
      "text/html": [
       "Recommendation 4"
      ],
      "text/plain": [
       "<IPython.core.display.HTML object>"
      ]
     },
     "metadata": {},
     "output_type": "display_data"
    },
    {
     "data": {
      "text/html": [
       "<img src=\"https://m.media-amazon.com/images/M/MV5BM2FhYjEyYmYtMDI1Yy00YTdlLWI2NWQtYmEzNzAxOGY1NjY2XkEyXkFqcGdeQXVyNTA3NTIyNDg@._V1_.jpg\" width=\"200\" height=\"300\"/>"
      ],
      "text/plain": [
       "<IPython.core.display.Image object>"
      ]
     },
     "metadata": {},
     "output_type": "display_data"
    },
    {
     "data": {
      "text/html": [
       "Recommendation 5"
      ],
      "text/plain": [
       "<IPython.core.display.HTML object>"
      ]
     },
     "metadata": {},
     "output_type": "display_data"
    },
    {
     "data": {
      "text/html": [
       "<img src=\"https://upload.wikimedia.org/wikipedia/commons/c/c5/Lawrence_of_arabia_ver3_xxlg.jpg\" width=\"200\" height=\"300\"/>"
      ],
      "text/plain": [
       "<IPython.core.display.Image object>"
      ]
     },
     "metadata": {},
     "output_type": "display_data"
    },
    {
     "data": {
      "text/html": [
       "Recommendation 6"
      ],
      "text/plain": [
       "<IPython.core.display.HTML object>"
      ]
     },
     "metadata": {},
     "output_type": "display_data"
    },
    {
     "data": {
      "text/html": [
       "<img src=\"https://www.filmsite.org/posters/tokillamockingb.jpg\" width=\"200\" height=\"300\"/>"
      ],
      "text/plain": [
       "<IPython.core.display.Image object>"
      ]
     },
     "metadata": {},
     "output_type": "display_data"
    },
    {
     "data": {
      "text/html": [
       "Recommendation 7"
      ],
      "text/plain": [
       "<IPython.core.display.HTML object>"
      ]
     },
     "metadata": {},
     "output_type": "display_data"
    },
    {
     "data": {
      "text/html": [
       "<img src=\"https://boredanddangerousblog.files.wordpress.com/2015/11/bull-1.jpg\" width=\"200\" height=\"300\"/>"
      ],
      "text/plain": [
       "<IPython.core.display.Image object>"
      ]
     },
     "metadata": {},
     "output_type": "display_data"
    },
    {
     "data": {
      "text/html": [
       "Recommendation 8"
      ],
      "text/plain": [
       "<IPython.core.display.HTML object>"
      ]
     },
     "metadata": {},
     "output_type": "display_data"
    },
    {
     "data": {
      "text/html": [
       "<img src=\"https://m.media-amazon.com/images/M/MV5BMjJkMDZhYzItZTFhMi00ZGI4LThlNTAtZDNlYmEwNjFkNDYzXkEyXkFqcGdeQXVyMjUzOTY1NTc@._V1_.jpg\" width=\"200\" height=\"300\"/>"
      ],
      "text/plain": [
       "<IPython.core.display.Image object>"
      ]
     },
     "metadata": {},
     "output_type": "display_data"
    },
    {
     "data": {
      "text/html": [
       "Recommendation 9"
      ],
      "text/plain": [
       "<IPython.core.display.HTML object>"
      ]
     },
     "metadata": {},
     "output_type": "display_data"
    },
    {
     "data": {
      "text/html": [
       "<img src=\"https://m.media-amazon.com/images/M/MV5BODM3YWY4NmQtN2Y3Ni00OTg0LWFhZGQtZWE3ZWY4MTJlOWU4XkEyXkFqcGdeQXVyNjU0OTQ0OTY@._V1_.jpg\" width=\"200\" height=\"300\"/>"
      ],
      "text/plain": [
       "<IPython.core.display.Image object>"
      ]
     },
     "metadata": {},
     "output_type": "display_data"
    },
    {
     "data": {
      "text/html": [
       "Recommendation 10"
      ],
      "text/plain": [
       "<IPython.core.display.HTML object>"
      ]
     },
     "metadata": {},
     "output_type": "display_data"
    }
   ],
   "source": [
    "# Import necessary libraries\n",
    "from IPython.display import Image, display, HTML\n",
    "\n",
    "# List of movie poster URLs\n",
    "poster_urls = [\n",
    "    \"https://m.media-amazon.com/images/S/pv-target-images/c5eea2f44626ddcbe2e5a4e3f37a36e05d7ca2ceb1690d795ca9ac38a8f5d365.jpg\",\n",
    "    \"https://i.ytimg.com/vi/wSU2JH1_jWs/hq720.jpg?sqp=-oaymwEhCK4FEIIDSFryq4qpAxMIARUAAAAAGAElAADIQj0AgKJD&rs=AOn4CLBxtdA6QCQTsoT2OaLnTMOkFRMoQA\",\n",
    "    \"https://m.media-amazon.com/images/M/MV5BNGUxYWM3M2MtMGM3Mi00ZmRiLWE0NGQtZjE5ODI2OTJhNTU0XkEyXkFqcGdeQXVyMTQxNzMzNDI@._V1_.jpg\",\n",
    "    \"https://flxt.tmsimg.com/assets/p539_p_v8_aa.jpg\",\n",
    "    \"https://m.media-amazon.com/images/M/MV5BM2FhYjEyYmYtMDI1Yy00YTdlLWI2NWQtYmEzNzAxOGY1NjY2XkEyXkFqcGdeQXVyNTA3NTIyNDg@._V1_.jpg\",\n",
    "    \"https://upload.wikimedia.org/wikipedia/commons/c/c5/Lawrence_of_arabia_ver3_xxlg.jpg\",\n",
    "    \"https://www.filmsite.org/posters/tokillamockingb.jpg\",\n",
    "    \"https://boredanddangerousblog.files.wordpress.com/2015/11/bull-1.jpg\",\n",
    "    \"https://m.media-amazon.com/images/M/MV5BMjJkMDZhYzItZTFhMi00ZGI4LThlNTAtZDNlYmEwNjFkNDYzXkEyXkFqcGdeQXVyMjUzOTY1NTc@._V1_.jpg\",\n",
    "    \"https://m.media-amazon.com/images/M/MV5BODM3YWY4NmQtN2Y3Ni00OTg0LWFhZGQtZWE3ZWY4MTJlOWU4XkEyXkFqcGdeQXVyNjU0OTQ0OTY@._V1_.jpg\",\n",
    "    # Add more poster URLs here\n",
    "]\n",
    "\n",
    "# Display movie posters alongside recommendations\n",
    "for i, url in enumerate(poster_urls, start=1):\n",
    "    display(Image(url=url, width=200, height=300), HTML(f\"Recommendation {i}\"))\n"
   ]
  },
  {
   "cell_type": "code",
   "execution_count": 19,
   "id": "a644f1fe",
   "metadata": {},
   "outputs": [
    {
     "data": {
      "text/html": [
       "<ul><li>Shawshank Redemption (1994)</li><li>Ghost in the Shell (1995)</li><li>Rear Window (1954)</li><li>To Catch a Thief (1955)</li><li>Cinema Paradiso (1989)</li><li>Lawrence of Arabia (1962)</li><li>To Kill a Mockingbird (1962)</li><li>Raging Bull (1980)</li><li>Chinatown (1974)</li><li>Unforgiven (1992)</li></ul>"
      ],
      "text/plain": [
       "<IPython.core.display.HTML object>"
      ]
     },
     "metadata": {},
     "output_type": "display_data"
    }
   ],
   "source": [
    "# Import necessary libraries\n",
    "from IPython.display import HTML\n",
    "\n",
    "# Create an HTML list of movie recommendations\n",
    "recommendations = [\n",
    "    \"Shawshank Redemption (1994)\",\n",
    "    \"Ghost in the Shell (1995)\",\n",
    "    \"Rear Window (1954)\",\n",
    "    \"To Catch a Thief (1955)\",\n",
    "    \"Cinema Paradiso (1989)\",\n",
    "    \"Lawrence of Arabia (1962)\",\n",
    "    \"To Kill a Mockingbird (1962)\",\n",
    "    \"Raging Bull (1980)\",\n",
    "    \"Chinatown (1974)\",\n",
    "    \"Unforgiven (1992)\",   \n",
    "]\n",
    "\n",
    "# Create an HTML list\n",
    "html_list = \"<ul>\"\n",
    "for movie in recommendations:\n",
    "    html_list += f\"<li>{movie}</li>\"\n",
    "html_list += \"</ul>\"\n",
    "\n",
    "# Display the HTML list\n",
    "display(HTML(html_list))\n"
   ]
  },
  {
   "cell_type": "code",
   "execution_count": null,
   "id": "9351dd79",
   "metadata": {},
   "outputs": [],
   "source": []
  }
 ],
 "metadata": {
  "kernelspec": {
   "display_name": "Python 3 (ipykernel)",
   "language": "python",
   "name": "python3"
  },
  "language_info": {
   "codemirror_mode": {
    "name": "ipython",
    "version": 3
   },
   "file_extension": ".py",
   "mimetype": "text/x-python",
   "name": "python",
   "nbconvert_exporter": "python",
   "pygments_lexer": "ipython3",
   "version": "3.8.17"
  }
 },
 "nbformat": 4,
 "nbformat_minor": 5
}
